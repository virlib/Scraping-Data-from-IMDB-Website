{
  "nbformat": 4,
  "nbformat_minor": 0,
  "metadata": {
    "colab": {
      "name": "Web Scraping IMDB Website.ipynb",
      "provenance": [],
      "authorship_tag": "ABX9TyM+L4UZLdqbyRbiG4zuHana",
      "include_colab_link": true
    },
    "kernelspec": {
      "name": "python3",
      "display_name": "Python 3"
    },
    "language_info": {
      "name": "python"
    }
  },
  "cells": [
    {
      "cell_type": "markdown",
      "metadata": {
        "id": "view-in-github",
        "colab_type": "text"
      },
      "source": [
        "<a href=\"https://colab.research.google.com/github/virlib/Scraping-Data-from-IMDB-Website/blob/main/Web_Scraping_IMDB_Website.ipynb\" target=\"_parent\"><img src=\"https://colab.research.google.com/assets/colab-badge.svg\" alt=\"Open In Colab\"/></a>"
      ]
    },
    {
      "cell_type": "code",
      "execution_count": null,
      "metadata": {
        "id": "XnD8ZbJcS6Nk"
      },
      "outputs": [],
      "source": [
        "from bs4 import BeautifulSoup\n",
        "import requests, openpyxl"
      ]
    },
    {
      "cell_type": "code",
      "source": [
        "from google.colab import drive\n",
        "drive.mount('/content/drive')"
      ],
      "metadata": {
        "colab": {
          "base_uri": "https://localhost:8080/"
        },
        "id": "XWK0gce4S_kG",
        "outputId": "2999a966-ccaf-4581-8dd9-363b5027aace"
      },
      "execution_count": null,
      "outputs": [
        {
          "output_type": "stream",
          "name": "stdout",
          "text": [
            "Drive already mounted at /content/drive; to attempt to forcibly remount, call drive.mount(\"/content/drive\", force_remount=True).\n"
          ]
        }
      ]
    },
    {
      "cell_type": "code",
      "source": [
        "excel = openpyxl.Workbook()\n",
        "print(excel.sheetnames)"
      ],
      "metadata": {
        "colab": {
          "base_uri": "https://localhost:8080/"
        },
        "id": "ulVLGXga4QQb",
        "outputId": "9c700d3a-9c59-43ed-e255-022ab7a43140"
      },
      "execution_count": null,
      "outputs": [
        {
          "output_type": "stream",
          "name": "stdout",
          "text": [
            "['Sheet']\n"
          ]
        }
      ]
    },
    {
      "cell_type": "code",
      "source": [
        "sheet = excel.active\n",
        "sheet.title = 'Top Rated Movies'\n",
        "print(excel.sheetnames)"
      ],
      "metadata": {
        "colab": {
          "base_uri": "https://localhost:8080/"
        },
        "id": "1kwCGYr14mkx",
        "outputId": "85a9b2e7-68a0-43e4-ba44-dfd95bc5244d"
      },
      "execution_count": null,
      "outputs": [
        {
          "output_type": "stream",
          "name": "stdout",
          "text": [
            "['Top Rated Movies']\n"
          ]
        }
      ]
    },
    {
      "cell_type": "code",
      "source": [
        "sheet.append(['Movie Rank','Movie Name','Year of Release','IMDB Rating'])"
      ],
      "metadata": {
        "id": "unw7BxTr5JGw"
      },
      "execution_count": null,
      "outputs": []
    },
    {
      "cell_type": "code",
      "source": [
        "source = requests.get('https://www.imdb.com/chart/top/')\n",
        "source.raise_for_status()\n",
        "\n",
        "soup = BeautifulSoup(source.text,'html.parser')\n",
        "\n",
        "movies = soup.find('tbody', class_ =\"lister-list\").find_all('tr')\n",
        "\n",
        "for movie in movies:\n",
        "\n",
        "  name = movie.find('td', class_=\"titleColumn\").a.text\n",
        "\n",
        "  rank = movie.find('td', class_=\"titleColumn\").get_text(strip=True).split('.')[0]\n",
        "\n",
        "  year = movie.find('td', class_=\"titleColumn\").span.text.strip('()')\n",
        "\n",
        "  rating = movie.find('td', class_=\"ratingColumn imdbRating\").strong.text\n",
        "\n",
        "  sheet.append([rank, name, year, rating])\n",
        "\n",
        "  "
      ],
      "metadata": {
        "id": "cZLwbhQ5TCVX"
      },
      "execution_count": 52,
      "outputs": []
    },
    {
      "cell_type": "code",
      "source": [
        "excel.save('IMDB Movie Rating.xlsx')\n"
      ],
      "metadata": {
        "id": "A86Rv4KvTgLV"
      },
      "execution_count": 53,
      "outputs": []
    },
    {
      "cell_type": "code",
      "source": [
        "from google.colab import files\n",
        "files.download('IMDB Movie Rating.xlsx')"
      ],
      "metadata": {
        "colab": {
          "base_uri": "https://localhost:8080/",
          "height": 17
        },
        "id": "SW8JtYAb8lhB",
        "outputId": "e0983856-392e-47d2-be8f-01077d4584ba"
      },
      "execution_count": 55,
      "outputs": [
        {
          "output_type": "display_data",
          "data": {
            "text/plain": [
              "<IPython.core.display.Javascript object>"
            ],
            "application/javascript": [
              "\n",
              "    async function download(id, filename, size) {\n",
              "      if (!google.colab.kernel.accessAllowed) {\n",
              "        return;\n",
              "      }\n",
              "      const div = document.createElement('div');\n",
              "      const label = document.createElement('label');\n",
              "      label.textContent = `Downloading \"${filename}\": `;\n",
              "      div.appendChild(label);\n",
              "      const progress = document.createElement('progress');\n",
              "      progress.max = size;\n",
              "      div.appendChild(progress);\n",
              "      document.body.appendChild(div);\n",
              "\n",
              "      const buffers = [];\n",
              "      let downloaded = 0;\n",
              "\n",
              "      const channel = await google.colab.kernel.comms.open(id);\n",
              "      // Send a message to notify the kernel that we're ready.\n",
              "      channel.send({})\n",
              "\n",
              "      for await (const message of channel.messages) {\n",
              "        // Send a message to notify the kernel that we're ready.\n",
              "        channel.send({})\n",
              "        if (message.buffers) {\n",
              "          for (const buffer of message.buffers) {\n",
              "            buffers.push(buffer);\n",
              "            downloaded += buffer.byteLength;\n",
              "            progress.value = downloaded;\n",
              "          }\n",
              "        }\n",
              "      }\n",
              "      const blob = new Blob(buffers, {type: 'application/binary'});\n",
              "      const a = document.createElement('a');\n",
              "      a.href = window.URL.createObjectURL(blob);\n",
              "      a.download = filename;\n",
              "      div.appendChild(a);\n",
              "      a.click();\n",
              "      div.remove();\n",
              "    }\n",
              "  "
            ]
          },
          "metadata": {}
        },
        {
          "output_type": "display_data",
          "data": {
            "text/plain": [
              "<IPython.core.display.Javascript object>"
            ],
            "application/javascript": [
              "download(\"download_a10466af-2faa-417d-8649-7fbcb769e7cd\", \"IMDB Movie Rating.xlsx\", 12614)"
            ]
          },
          "metadata": {}
        }
      ]
    },
    {
      "cell_type": "code",
      "source": [
        ""
      ],
      "metadata": {
        "id": "dJrHDtEy9Ko2"
      },
      "execution_count": null,
      "outputs": []
    }
  ]
}